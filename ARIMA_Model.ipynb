{
  "nbformat": 4,
  "nbformat_minor": 0,
  "metadata": {
    "colab": {
      "provenance": [],
      "authorship_tag": "ABX9TyM47T/xq39RUutXwoTBu4bW",
      "include_colab_link": true
    },
    "kernelspec": {
      "name": "python3",
      "display_name": "Python 3"
    },
    "language_info": {
      "name": "python"
    }
  },
  "cells": [
    {
      "cell_type": "markdown",
      "metadata": {
        "id": "view-in-github",
        "colab_type": "text"
      },
      "source": [
        "<a href=\"https://colab.research.google.com/github/Ali-Tahseen/Time_Series_Bitcoin_Prediction_ARIMA/blob/main/ARIMA_Model.ipynb\" target=\"_parent\"><img src=\"https://colab.research.google.com/assets/colab-badge.svg\" alt=\"Open In Colab\"/></a>"
      ]
    },
    {
      "cell_type": "markdown",
      "source": [
        "**Predicting Bitcoin Prices using ARIMA model**"
      ],
      "metadata": {
        "id": "ylp-UQg5WqHn"
      }
    },
    {
      "cell_type": "markdown",
      "source": [
        "ARIMA(Autoregressive Integrated Moving Average)"
      ],
      "metadata": {
        "id": "9I2xtZEBW6I9"
      }
    },
    {
      "cell_type": "markdown",
      "source": [
        "# Install library that uses yahoo finance"
      ],
      "metadata": {
        "id": "Qb0Ly-qWXW34"
      }
    },
    {
      "cell_type": "code",
      "source": [
        "# yahoo price"
      ],
      "metadata": {
        "id": "xPT08FE0Xjub"
      },
      "execution_count": 38,
      "outputs": []
    },
    {
      "cell_type": "code",
      "source": [
        "pip install yfinance"
      ],
      "metadata": {
        "colab": {
          "base_uri": "https://localhost:8080/"
        },
        "id": "x9IlHKMSmRAg",
        "outputId": "613dfe2c-b662-4c1e-94c0-5972c21b5c62"
      },
      "execution_count": 39,
      "outputs": [
        {
          "output_type": "stream",
          "name": "stdout",
          "text": [
            "Looking in indexes: https://pypi.org/simple, https://us-python.pkg.dev/colab-wheels/public/simple/\n",
            "Requirement already satisfied: yfinance in /usr/local/lib/python3.7/dist-packages (0.1.75)\n",
            "Requirement already satisfied: pandas>=0.24.0 in /usr/local/lib/python3.7/dist-packages (from yfinance) (1.3.5)\n",
            "Requirement already satisfied: requests>=2.26 in /usr/local/lib/python3.7/dist-packages (from yfinance) (2.28.1)\n",
            "Requirement already satisfied: appdirs>=1.4.4 in /usr/local/lib/python3.7/dist-packages (from yfinance) (1.4.4)\n",
            "Requirement already satisfied: lxml>=4.5.1 in /usr/local/lib/python3.7/dist-packages (from yfinance) (4.9.1)\n",
            "Requirement already satisfied: numpy>=1.15 in /usr/local/lib/python3.7/dist-packages (from yfinance) (1.21.6)\n",
            "Requirement already satisfied: multitasking>=0.0.7 in /usr/local/lib/python3.7/dist-packages (from yfinance) (0.0.11)\n",
            "Requirement already satisfied: python-dateutil>=2.7.3 in /usr/local/lib/python3.7/dist-packages (from pandas>=0.24.0->yfinance) (2.8.2)\n",
            "Requirement already satisfied: pytz>=2017.3 in /usr/local/lib/python3.7/dist-packages (from pandas>=0.24.0->yfinance) (2022.4)\n",
            "Requirement already satisfied: six>=1.5 in /usr/local/lib/python3.7/dist-packages (from python-dateutil>=2.7.3->pandas>=0.24.0->yfinance) (1.15.0)\n",
            "Requirement already satisfied: urllib3<1.27,>=1.21.1 in /usr/local/lib/python3.7/dist-packages (from requests>=2.26->yfinance) (1.24.3)\n",
            "Requirement already satisfied: charset-normalizer<3,>=2 in /usr/local/lib/python3.7/dist-packages (from requests>=2.26->yfinance) (2.1.1)\n",
            "Requirement already satisfied: idna<4,>=2.5 in /usr/local/lib/python3.7/dist-packages (from requests>=2.26->yfinance) (2.10)\n",
            "Requirement already satisfied: certifi>=2017.4.17 in /usr/local/lib/python3.7/dist-packages (from requests>=2.26->yfinance) (2022.9.24)\n"
          ]
        }
      ]
    },
    {
      "cell_type": "markdown",
      "source": [
        "**Predicting Bitcoin Prices for the next day**"
      ],
      "metadata": {
        "id": "7qWNj35OZF4j"
      }
    },
    {
      "cell_type": "code",
      "source": [
        "import yfinance as yf "
      ],
      "metadata": {
        "id": "l-UAX9E7Z05x"
      },
      "execution_count": 40,
      "outputs": []
    },
    {
      "cell_type": "code",
      "source": [
        "# All the historical prices of bitcoin\n",
        "# Ourdataset\n",
        "df = yf.download('BTC-USD')"
      ],
      "metadata": {
        "colab": {
          "base_uri": "https://localhost:8080/"
        },
        "id": "zPjIpyKzawtM",
        "outputId": "7d03674d-a7cf-42ad-e85e-f06b70b44561"
      },
      "execution_count": 41,
      "outputs": [
        {
          "output_type": "stream",
          "name": "stdout",
          "text": [
            "\r[*********************100%***********************]  1 of 1 completed\n"
          ]
        }
      ]
    },
    {
      "cell_type": "code",
      "source": [
        "df"
      ],
      "metadata": {
        "colab": {
          "base_uri": "https://localhost:8080/",
          "height": 693
        },
        "id": "QJGnetxWa3-9",
        "outputId": "b2f58c3d-7781-4855-c4e6-2dd92245f49f"
      },
      "execution_count": 42,
      "outputs": [
        {
          "output_type": "execute_result",
          "data": {
            "text/plain": [
              "                                   Open          High           Low  \\\n",
              "Date                                                                  \n",
              "2014-09-17 00:00:00+00:00    465.864014    468.174011    452.421997   \n",
              "2014-09-18 00:00:00+00:00    456.859985    456.859985    413.104004   \n",
              "2014-09-19 00:00:00+00:00    424.102997    427.834991    384.532013   \n",
              "2014-09-20 00:00:00+00:00    394.673004    423.295990    389.882996   \n",
              "2014-09-21 00:00:00+00:00    408.084991    412.425995    393.181000   \n",
              "...                                 ...           ...           ...   \n",
              "2022-10-03 00:00:00+00:00  19044.068359  19653.542969  19025.226562   \n",
              "2022-10-04 00:00:00+00:00  19623.583984  20380.343750  19523.839844   \n",
              "2022-10-05 00:00:00+00:00  20335.900391  20343.748047  19801.800781   \n",
              "2022-10-06 00:00:00+00:00  20161.039062  20408.392578  19900.087891   \n",
              "2022-10-07 00:00:00+00:00  19962.253906  20041.085938  19962.253906   \n",
              "\n",
              "                                  Close     Adj Close       Volume  \n",
              "Date                                                                \n",
              "2014-09-17 00:00:00+00:00    457.334015    457.334015     21056800  \n",
              "2014-09-18 00:00:00+00:00    424.440002    424.440002     34483200  \n",
              "2014-09-19 00:00:00+00:00    394.795990    394.795990     37919700  \n",
              "2014-09-20 00:00:00+00:00    408.903992    408.903992     36863600  \n",
              "2014-09-21 00:00:00+00:00    398.821014    398.821014     26580100  \n",
              "...                                 ...           ...          ...  \n",
              "2022-10-03 00:00:00+00:00  19623.580078  19623.580078  30484729489  \n",
              "2022-10-04 00:00:00+00:00  20336.843750  20336.843750  35887278685  \n",
              "2022-10-05 00:00:00+00:00  20160.716797  20160.716797  33223790572  \n",
              "2022-10-06 00:00:00+00:00  19955.443359  19955.443359  34711412966  \n",
              "2022-10-07 00:00:00+00:00  19996.712891  19996.712891  31450324992  \n",
              "\n",
              "[2943 rows x 6 columns]"
            ],
            "text/html": [
              "\n",
              "  <div id=\"df-78f84a48-7a3b-456e-89d6-b853c695d466\">\n",
              "    <div class=\"colab-df-container\">\n",
              "      <div>\n",
              "<style scoped>\n",
              "    .dataframe tbody tr th:only-of-type {\n",
              "        vertical-align: middle;\n",
              "    }\n",
              "\n",
              "    .dataframe tbody tr th {\n",
              "        vertical-align: top;\n",
              "    }\n",
              "\n",
              "    .dataframe thead th {\n",
              "        text-align: right;\n",
              "    }\n",
              "</style>\n",
              "<table border=\"1\" class=\"dataframe\">\n",
              "  <thead>\n",
              "    <tr style=\"text-align: right;\">\n",
              "      <th></th>\n",
              "      <th>Open</th>\n",
              "      <th>High</th>\n",
              "      <th>Low</th>\n",
              "      <th>Close</th>\n",
              "      <th>Adj Close</th>\n",
              "      <th>Volume</th>\n",
              "    </tr>\n",
              "    <tr>\n",
              "      <th>Date</th>\n",
              "      <th></th>\n",
              "      <th></th>\n",
              "      <th></th>\n",
              "      <th></th>\n",
              "      <th></th>\n",
              "      <th></th>\n",
              "    </tr>\n",
              "  </thead>\n",
              "  <tbody>\n",
              "    <tr>\n",
              "      <th>2014-09-17 00:00:00+00:00</th>\n",
              "      <td>465.864014</td>\n",
              "      <td>468.174011</td>\n",
              "      <td>452.421997</td>\n",
              "      <td>457.334015</td>\n",
              "      <td>457.334015</td>\n",
              "      <td>21056800</td>\n",
              "    </tr>\n",
              "    <tr>\n",
              "      <th>2014-09-18 00:00:00+00:00</th>\n",
              "      <td>456.859985</td>\n",
              "      <td>456.859985</td>\n",
              "      <td>413.104004</td>\n",
              "      <td>424.440002</td>\n",
              "      <td>424.440002</td>\n",
              "      <td>34483200</td>\n",
              "    </tr>\n",
              "    <tr>\n",
              "      <th>2014-09-19 00:00:00+00:00</th>\n",
              "      <td>424.102997</td>\n",
              "      <td>427.834991</td>\n",
              "      <td>384.532013</td>\n",
              "      <td>394.795990</td>\n",
              "      <td>394.795990</td>\n",
              "      <td>37919700</td>\n",
              "    </tr>\n",
              "    <tr>\n",
              "      <th>2014-09-20 00:00:00+00:00</th>\n",
              "      <td>394.673004</td>\n",
              "      <td>423.295990</td>\n",
              "      <td>389.882996</td>\n",
              "      <td>408.903992</td>\n",
              "      <td>408.903992</td>\n",
              "      <td>36863600</td>\n",
              "    </tr>\n",
              "    <tr>\n",
              "      <th>2014-09-21 00:00:00+00:00</th>\n",
              "      <td>408.084991</td>\n",
              "      <td>412.425995</td>\n",
              "      <td>393.181000</td>\n",
              "      <td>398.821014</td>\n",
              "      <td>398.821014</td>\n",
              "      <td>26580100</td>\n",
              "    </tr>\n",
              "    <tr>\n",
              "      <th>...</th>\n",
              "      <td>...</td>\n",
              "      <td>...</td>\n",
              "      <td>...</td>\n",
              "      <td>...</td>\n",
              "      <td>...</td>\n",
              "      <td>...</td>\n",
              "    </tr>\n",
              "    <tr>\n",
              "      <th>2022-10-03 00:00:00+00:00</th>\n",
              "      <td>19044.068359</td>\n",
              "      <td>19653.542969</td>\n",
              "      <td>19025.226562</td>\n",
              "      <td>19623.580078</td>\n",
              "      <td>19623.580078</td>\n",
              "      <td>30484729489</td>\n",
              "    </tr>\n",
              "    <tr>\n",
              "      <th>2022-10-04 00:00:00+00:00</th>\n",
              "      <td>19623.583984</td>\n",
              "      <td>20380.343750</td>\n",
              "      <td>19523.839844</td>\n",
              "      <td>20336.843750</td>\n",
              "      <td>20336.843750</td>\n",
              "      <td>35887278685</td>\n",
              "    </tr>\n",
              "    <tr>\n",
              "      <th>2022-10-05 00:00:00+00:00</th>\n",
              "      <td>20335.900391</td>\n",
              "      <td>20343.748047</td>\n",
              "      <td>19801.800781</td>\n",
              "      <td>20160.716797</td>\n",
              "      <td>20160.716797</td>\n",
              "      <td>33223790572</td>\n",
              "    </tr>\n",
              "    <tr>\n",
              "      <th>2022-10-06 00:00:00+00:00</th>\n",
              "      <td>20161.039062</td>\n",
              "      <td>20408.392578</td>\n",
              "      <td>19900.087891</td>\n",
              "      <td>19955.443359</td>\n",
              "      <td>19955.443359</td>\n",
              "      <td>34711412966</td>\n",
              "    </tr>\n",
              "    <tr>\n",
              "      <th>2022-10-07 00:00:00+00:00</th>\n",
              "      <td>19962.253906</td>\n",
              "      <td>20041.085938</td>\n",
              "      <td>19962.253906</td>\n",
              "      <td>19996.712891</td>\n",
              "      <td>19996.712891</td>\n",
              "      <td>31450324992</td>\n",
              "    </tr>\n",
              "  </tbody>\n",
              "</table>\n",
              "<p>2943 rows × 6 columns</p>\n",
              "</div>\n",
              "      <button class=\"colab-df-convert\" onclick=\"convertToInteractive('df-78f84a48-7a3b-456e-89d6-b853c695d466')\"\n",
              "              title=\"Convert this dataframe to an interactive table.\"\n",
              "              style=\"display:none;\">\n",
              "        \n",
              "  <svg xmlns=\"http://www.w3.org/2000/svg\" height=\"24px\"viewBox=\"0 0 24 24\"\n",
              "       width=\"24px\">\n",
              "    <path d=\"M0 0h24v24H0V0z\" fill=\"none\"/>\n",
              "    <path d=\"M18.56 5.44l.94 2.06.94-2.06 2.06-.94-2.06-.94-.94-2.06-.94 2.06-2.06.94zm-11 1L8.5 8.5l.94-2.06 2.06-.94-2.06-.94L8.5 2.5l-.94 2.06-2.06.94zm10 10l.94 2.06.94-2.06 2.06-.94-2.06-.94-.94-2.06-.94 2.06-2.06.94z\"/><path d=\"M17.41 7.96l-1.37-1.37c-.4-.4-.92-.59-1.43-.59-.52 0-1.04.2-1.43.59L10.3 9.45l-7.72 7.72c-.78.78-.78 2.05 0 2.83L4 21.41c.39.39.9.59 1.41.59.51 0 1.02-.2 1.41-.59l7.78-7.78 2.81-2.81c.8-.78.8-2.07 0-2.86zM5.41 20L4 18.59l7.72-7.72 1.47 1.35L5.41 20z\"/>\n",
              "  </svg>\n",
              "      </button>\n",
              "      \n",
              "  <style>\n",
              "    .colab-df-container {\n",
              "      display:flex;\n",
              "      flex-wrap:wrap;\n",
              "      gap: 12px;\n",
              "    }\n",
              "\n",
              "    .colab-df-convert {\n",
              "      background-color: #E8F0FE;\n",
              "      border: none;\n",
              "      border-radius: 50%;\n",
              "      cursor: pointer;\n",
              "      display: none;\n",
              "      fill: #1967D2;\n",
              "      height: 32px;\n",
              "      padding: 0 0 0 0;\n",
              "      width: 32px;\n",
              "    }\n",
              "\n",
              "    .colab-df-convert:hover {\n",
              "      background-color: #E2EBFA;\n",
              "      box-shadow: 0px 1px 2px rgba(60, 64, 67, 0.3), 0px 1px 3px 1px rgba(60, 64, 67, 0.15);\n",
              "      fill: #174EA6;\n",
              "    }\n",
              "\n",
              "    [theme=dark] .colab-df-convert {\n",
              "      background-color: #3B4455;\n",
              "      fill: #D2E3FC;\n",
              "    }\n",
              "\n",
              "    [theme=dark] .colab-df-convert:hover {\n",
              "      background-color: #434B5C;\n",
              "      box-shadow: 0px 1px 3px 1px rgba(0, 0, 0, 0.15);\n",
              "      filter: drop-shadow(0px 1px 2px rgba(0, 0, 0, 0.3));\n",
              "      fill: #FFFFFF;\n",
              "    }\n",
              "  </style>\n",
              "\n",
              "      <script>\n",
              "        const buttonEl =\n",
              "          document.querySelector('#df-78f84a48-7a3b-456e-89d6-b853c695d466 button.colab-df-convert');\n",
              "        buttonEl.style.display =\n",
              "          google.colab.kernel.accessAllowed ? 'block' : 'none';\n",
              "\n",
              "        async function convertToInteractive(key) {\n",
              "          const element = document.querySelector('#df-78f84a48-7a3b-456e-89d6-b853c695d466');\n",
              "          const dataTable =\n",
              "            await google.colab.kernel.invokeFunction('convertToInteractive',\n",
              "                                                     [key], {});\n",
              "          if (!dataTable) return;\n",
              "\n",
              "          const docLinkHtml = 'Like what you see? Visit the ' +\n",
              "            '<a target=\"_blank\" href=https://colab.research.google.com/notebooks/data_table.ipynb>data table notebook</a>'\n",
              "            + ' to learn more about interactive tables.';\n",
              "          element.innerHTML = '';\n",
              "          dataTable['output_type'] = 'display_data';\n",
              "          await google.colab.output.renderOutput(dataTable, element);\n",
              "          const docLink = document.createElement('div');\n",
              "          docLink.innerHTML = docLinkHtml;\n",
              "          element.appendChild(docLink);\n",
              "        }\n",
              "      </script>\n",
              "    </div>\n",
              "  </div>\n",
              "  "
            ]
          },
          "metadata": {},
          "execution_count": 42
        }
      ]
    },
    {
      "cell_type": "code",
      "source": [
        "len(df)"
      ],
      "metadata": {
        "colab": {
          "base_uri": "https://localhost:8080/"
        },
        "id": "Aw8Wa3DymXDs",
        "outputId": "641783d0-54cc-46c6-a5ce-47e624989f2e"
      },
      "execution_count": 43,
      "outputs": [
        {
          "output_type": "execute_result",
          "data": {
            "text/plain": [
              "2943"
            ]
          },
          "metadata": {},
          "execution_count": 43
        }
      ]
    },
    {
      "cell_type": "code",
      "source": [
        "import numpy as np, pandas as pd, matplotlib.pyplot as plt\n",
        "import math\n",
        "from statsmodels.tsa.arima_model import ARIMA\n",
        "from sklearn.metrics import mean_squared_error, mean_absolute_error"
      ],
      "metadata": {
        "id": "8rODtVRNa6nu"
      },
      "execution_count": 44,
      "outputs": []
    },
    {
      "cell_type": "code",
      "source": [
        "# Visualize the chart of bitcoin prices\n",
        "plt.plot(df.index, df['Adj Close'])\n",
        "plt.show"
      ],
      "metadata": {
        "colab": {
          "base_uri": "https://localhost:8080/",
          "height": 284
        },
        "id": "qz64nuHrbil1",
        "outputId": "2768bd0b-eb0a-4759-dc94-7994cbaaf856"
      },
      "execution_count": 45,
      "outputs": [
        {
          "output_type": "execute_result",
          "data": {
            "text/plain": [
              "<function matplotlib.pyplot.show(*args, **kw)>"
            ]
          },
          "metadata": {},
          "execution_count": 45
        },
        {
          "output_type": "display_data",
          "data": {
            "text/plain": [
              "<Figure size 432x288 with 1 Axes>"
            ],
            "image/png": "[encoded data removed]"
          },
          "metadata": {
            "needs_background": "light"
          }
        }
      ]
    },
    {
      "cell_type": "code",
      "source": [
        "# Train test split of dataset\n",
        "# Use 90% of the dataset as the test set\n",
        "to_row = int(len(df)*0.9)\n",
        "\n",
        "# Visualizing the training dataset\n",
        "training_data = df[0:to_row]['Adj Close']\n",
        "training_data"
      ],
      "metadata": {
        "colab": {
          "base_uri": "https://localhost:8080/"
        },
        "id": "0DhM0UXkb9bU",
        "outputId": "db2d5ce7-5d8c-4429-90c9-2f1a0e10481e"
      },
      "execution_count": 46,
      "outputs": [
        {
          "output_type": "execute_result",
          "data": {
            "text/plain": [
              "Date\n",
              "2014-09-17 00:00:00+00:00      457.334015\n",
              "2014-09-18 00:00:00+00:00      424.440002\n",
              "2014-09-19 00:00:00+00:00      394.795990\n",
              "2014-09-20 00:00:00+00:00      408.903992\n",
              "2014-09-21 00:00:00+00:00      398.821014\n",
              "                                 ...     \n",
              "2021-12-12 00:00:00+00:00    50098.335938\n",
              "2021-12-13 00:00:00+00:00    46737.480469\n",
              "2021-12-14 00:00:00+00:00    46612.632812\n",
              "2021-12-15 00:00:00+00:00    48896.722656\n",
              "2021-12-16 00:00:00+00:00    47665.425781\n",
              "Name: Adj Close, Length: 2648, dtype: float64"
            ]
          },
          "metadata": {},
          "execution_count": 46
        }
      ]
    },
    {
      "cell_type": "code",
      "source": [
        "# Covert training data to list\n",
        "training_data = list(df[0:to_row]['Adj Close'])\n",
        "# Convert test data to list\n",
        "testing_data = list(df[to_row:]['Adj Close'])"
      ],
      "metadata": {
        "id": "oYD7fONbctRJ"
      },
      "execution_count": 47,
      "outputs": []
    },
    {
      "cell_type": "code",
      "source": [
        "# Visualize the whole dataset with train and test split\n",
        "plt.figure(figsize=(10,6))\n",
        "plt.grid(True)\n",
        "plt.xlabel('Dates')\n",
        "plt.ylabel('Closing Prices')\n",
        "plt.plot(df[0:to_row]['Adj Close'], 'green', label='Train data')\n",
        "plt.plot(df[to_row:]['Adj Close'], 'blue', label='Test data')\n",
        "plt.legend()"
      ],
      "metadata": {
        "colab": {
          "base_uri": "https://localhost:8080/",
          "height": 405
        },
        "id": "Kk9lWfR5dPHL",
        "outputId": "73fc17b7-061e-4473-d1d6-728743230ad0"
      },
      "execution_count": 48,
      "outputs": [
        {
          "output_type": "execute_result",
          "data": {
            "text/plain": [
              "<matplotlib.legend.Legend at 0x7fd98805f0d0>"
            ]
          },
          "metadata": {},
          "execution_count": 48
        },
        {
          "output_type": "display_data",
          "data": {
            "text/plain": [
              "<Figure size 720x432 with 1 Axes>"
            ],
            "image/png": "[encoded data removed]"
          },
          "metadata": {
            "needs_background": "light"
          }
        }
      ]
    },
    {
      "cell_type": "code",
      "source": [
        "model_predictions = []\n",
        "# Observation will be the remaining 10% dataset which is the test set\n",
        "n_test_obser = len(testing_data)\n",
        "n_test_obser"
      ],
      "metadata": {
        "colab": {
          "base_uri": "https://localhost:8080/"
        },
        "id": "sE62CxozeEkZ",
        "outputId": "96c68418-1970-4b0a-985d-27e00eb603fc"
      },
      "execution_count": 58,
      "outputs": [
        {
          "output_type": "execute_result",
          "data": {
            "text/plain": [
              "295"
            ]
          },
          "metadata": {},
          "execution_count": 58
        }
      ]
    },
    {
      "cell_type": "code",
      "source": [
        "# The model will be a rolling model since our dataset is historical data\n",
        "# Change the training set for all the iteration that will be used to predict the prices\n",
        "for i in range(n_test_obser):\n",
        "    model = ARIMA(training_data, order = (4,1,0)) \n",
        "    # p,d,q respectively\n",
        "    # Can change numbers to get different model\n",
        "    # Auto Arima better because it takes different values of p,d,q and gives the best value after all the iterations\n",
        "    model_fit = model.fit()\n",
        "    output = model_fit.forecast()\n",
        "    #  Get the first value which is the actual prediction aka Y-hat\n",
        "    yhat = list(output[0])[0]\n",
        "    # append the model predictions to the list model_predictions = [] to plot the graph\n",
        "    model_predictions.append(yhat)\n",
        "    actual_test_value = testing_data[i]\n",
        "    # Keep on updating the training set\n",
        "    # all our models should be updated with the new training data because our dataset is historical data\n",
        "    training_data.append(actual_test_value)\n",
        "    # print(output)"
      ],
      "metadata": {
        "colab": {
          "base_uri": "https://localhost:8080/"
        },
        "id": "WIkN_H4te5BI",
        "outputId": "84b1fd89-f328-40ac-f6c9-b93d3821a6e6"
      },
      "execution_count": 59,
      "outputs": [
        {
          "output_type": "stream",
          "name": "stderr",
          "text": [
            "/usr/local/lib/python3.7/dist-packages/statsmodels/tsa/arima_model.py:472: FutureWarning: \n",
            "statsmodels.tsa.arima_model.ARMA and statsmodels.tsa.arima_model.ARIMA have\n",
            "been deprecated in favor of statsmodels.tsa.arima.model.ARIMA (note the .\n",
            "between arima and model) and\n",
            "statsmodels.tsa.SARIMAX. These will be removed after the 0.12 release.\n",
            "\n",
            "statsmodels.tsa.arima.model.ARIMA makes use of the statespace framework and\n",
            "is both well tested and maintained.\n",
            "\n",
            "To silence this warning and continue using ARMA and ARIMA until they are\n",
            "removed, use:\n",
            "\n",
            "import warnings\n",
            "warnings.filterwarnings('ignore', 'statsmodels.tsa.arima_model.ARMA',\n",
            "                        FutureWarning)\n",
            "warnings.filterwarnings('ignore', 'statsmodels.tsa.arima_model.ARIMA',\n",
            "                        FutureWarning)\n",
            "\n",
            "  warnings.warn(ARIMA_DEPRECATION_WARN, FutureWarning)\n",
            "/usr/local/lib/python3.7/dist-packages/statsmodels/base/model.py:568: ConvergenceWarning: Maximum Likelihood optimization failed to converge. Check mle_retvals\n",
            "  ConvergenceWarning)\n"
          ]
        }
      ]
    },
    {
      "cell_type": "code",
      "source": [
        "print(model_fit.summary())"
      ],
      "metadata": {
        "colab": {
          "base_uri": "https://localhost:8080/"
        },
        "id": "P4QzWbgqgUqm",
        "outputId": "9164245b-de1d-4a5f-e97a-3efede128b29"
      },
      "execution_count": 60,
      "outputs": [
        {
          "output_type": "stream",
          "name": "stdout",
          "text": [
            "                             ARIMA Model Results                              \n",
            "==============================================================================\n",
            "Dep. Variable:                    D.y   No. Observations:                 2943\n",
            "Model:                 ARIMA(4, 1, 0)   Log Likelihood              -23851.769\n",
            "Method:                       css-mle   S.D. of innovations            800.821\n",
            "Date:                Fri, 07 Oct 2022   AIC                          47715.538\n",
            "Time:                        04:12:49   BIC                          47751.461\n",
            "Sample:                             1   HQIC                         47728.472\n",
            "                                                                              \n",
            "==============================================================================\n",
            "                 coef    std err          z      P>|z|      [0.025      0.975]\n",
            "------------------------------------------------------------------------------\n",
            "const          6.6253     15.228      0.435      0.664     -23.222      36.472\n",
            "ar.L1.D.y     -0.0264      0.018     -1.436      0.151      -0.063       0.010\n",
            "ar.L2.D.y      0.0056      0.018      0.302      0.763      -0.031       0.042\n",
            "ar.L3.D.y      0.0177      0.018      0.959      0.338      -0.018       0.054\n",
            "ar.L4.D.y      0.0339      0.018      1.842      0.066      -0.002       0.070\n",
            "                                    Roots                                    \n",
            "=============================================================================\n",
            "                  Real          Imaginary           Modulus         Frequency\n",
            "-----------------------------------------------------------------------------\n",
            "AR.1            2.2282           -0.0000j            2.2282           -0.0000\n",
            "AR.2           -0.1673           -2.3352j            2.3412           -0.2614\n",
            "AR.3           -0.1673           +2.3352j            2.3412            0.2614\n",
            "AR.4           -2.4144           -0.0000j            2.4144           -0.5000\n",
            "-----------------------------------------------------------------------------\n"
          ]
        }
      ]
    },
    {
      "cell_type": "code",
      "source": [
        "len(model_predictions)"
      ],
      "metadata": {
        "colab": {
          "base_uri": "https://localhost:8080/"
        },
        "id": "qwxpaB85lyqL",
        "outputId": "1c0e0f59-427a-4277-e2c5-b286ea0cf14f"
      },
      "execution_count": 61,
      "outputs": [
        {
          "output_type": "execute_result",
          "data": {
            "text/plain": [
              "295"
            ]
          },
          "metadata": {},
          "execution_count": 61
        }
      ]
    },
    {
      "cell_type": "code",
      "source": [
        "# viualise the data thorugh graph\n",
        "plt.figure(figsize=(15,9))\n",
        "plt.grid(True)\n",
        "\n",
        "date_range = df[to_row:].index\n",
        "\n",
        "plt.plot(date_range, model_predictions, color = 'blue', marker = 'o', linestyle = 'dashed', label = 'BTC predicted Price')\n",
        "plt.plot(date_range, testing_data, color='red', label= 'BTC Actual Price')\n",
        "\n",
        "plt.title('Bitcoin Price Prediction')\n",
        "plt.xlabel('Date')\n",
        "plt.ylabel('Price')\n",
        "plt.legend()\n",
        "plt.show()"
      ],
      "metadata": {
        "colab": {
          "base_uri": "https://localhost:8080/",
          "height": 442
        },
        "id": "32j2Z7PnixCJ",
        "outputId": "a646d284-bcbf-478c-cd69-441812c34f3f"
      },
      "execution_count": 62,
      "outputs": [
        {
          "output_type": "display_data",
          "data": {
            "text/plain": [
              "<Figure size 1080x648 with 1 Axes>"
            ],
            "image/png": "[encoded data removed]"
          },
          "metadata": {
            "needs_background": "light"
          }
        }
      ]
    },
    {
      "cell_type": "code",
      "source": [
        "# report the peformance\n",
        "mape = np.mean(np.abs(np.array(model_predictions) - np.array(testing_data))/np.abs(testing_data))\n",
        "print('MAPE: ' +str(mape)) #Mean Absolute Percentage Error\n",
        "\n",
        "# Around 2.44% MAPE(Mean Absolute Percentage Error) implies the model is about 97.66% accurate in predicting the test set observations."
      ],
      "metadata": {
        "colab": {
          "base_uri": "https://localhost:8080/"
        },
        "id": "71ZmoLGForWH",
        "outputId": "ce60f3f5-a526-4c86-8327-1b4a4608129e"
      },
      "execution_count": 64,
      "outputs": [
        {
          "output_type": "stream",
          "name": "stdout",
          "text": [
            "MAPE: 0.024432110994803097\n"
          ]
        }
      ]
    },
    {
      "cell_type": "code",
      "source": [],
      "metadata": {
        "id": "oJ-mNczBq367"
      },
      "execution_count": null,
      "outputs": []
    }
  ]
}